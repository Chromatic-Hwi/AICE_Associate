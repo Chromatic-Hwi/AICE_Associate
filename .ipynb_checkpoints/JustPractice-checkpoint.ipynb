{
 "cells": [
  {
   "cell_type": "markdown",
   "id": "f2fb8646",
   "metadata": {},
   "source": [
    "### Common Module Import"
   ]
  },
  {
   "cell_type": "code",
   "execution_count": 2,
   "id": "48279fef",
   "metadata": {},
   "outputs": [
    {
     "name": "stderr",
     "output_type": "stream",
     "text": [
      "C:\\Users\\82108\\AppData\\Local\\Temp\\ipykernel_8012\\3320118968.py:1: DeprecationWarning: Importing display from IPython.core.display is deprecated since IPython 7.14, please import from IPython display\n",
      "  from IPython.core.display import display, HTML\n"
     ]
    },
    {
     "data": {
      "text/html": [
       "<style>.container { width:50% !important; }</style>"
      ],
      "text/plain": [
       "<IPython.core.display.HTML object>"
      ]
     },
     "metadata": {},
     "output_type": "display_data"
    }
   ],
   "source": [
    "from IPython.core.display import display, HTML\n",
    "display(HTML(\"<style>.container { width:50% !important; }</style>\"))"
   ]
  },
  {
   "cell_type": "code",
   "execution_count": 20,
   "id": "eb9f3051",
   "metadata": {},
   "outputs": [],
   "source": [
    "import numpy as np\n",
    "import pandas as pd\n",
    "import matplotlib.pyplot as plt\n",
    "import seaborn as sns\n",
    "import random\n",
    "from sklearn.preprocessing import LabelEncoder"
   ]
  },
  {
   "cell_type": "markdown",
   "id": "d5e34bc3",
   "metadata": {},
   "source": [
    "### 23.12.16"
   ]
  },
  {
   "cell_type": "code",
   "execution_count": 3,
   "id": "8bd8737a",
   "metadata": {},
   "outputs": [
    {
     "name": "stdout",
     "output_type": "stream",
     "text": [
      "[1 2 3 4 5] \n",
      " ['한글' '영어' '일어' '불어']\n"
     ]
    }
   ],
   "source": [
    "a = np.array([1, 2, 3, 4, 5])\n",
    "b = np.array(['한글', '영어', '일어', '불어'])\n",
    "print(a, '\\n', b)"
   ]
  },
  {
   "cell_type": "code",
   "execution_count": 7,
   "id": "9f4af6dd",
   "metadata": {},
   "outputs": [
    {
     "name": "stdout",
     "output_type": "stream",
     "text": [
      "1    첫번째\n",
      "2    두번째\n",
      "3    세번째\n",
      "Name: 순서 배열, dtype: object\n"
     ]
    }
   ],
   "source": [
    "testSeries = pd.Series(data=['첫번째', '두번째', '세번째'], index=[1, 2, 3], name=\"순서 배열\")\n",
    "\n",
    "print(testSeries)"
   ]
  },
  {
   "cell_type": "code",
   "execution_count": 10,
   "id": "1e6b1b9f",
   "metadata": {},
   "outputs": [
    {
     "name": "stdout",
     "output_type": "stream",
     "text": [
      "   a  b  c\n",
      "0  1  4  7\n",
      "1  2  5  8\n",
      "2  3  6  9 \n",
      "\n",
      "   0  1  2\n",
      "a  1  2  3\n",
      "b  4  5  6\n",
      "c  7  8  9\n"
     ]
    }
   ],
   "source": [
    "testDF1 = pd.DataFrame({'a' : [1,2,3], 'b' : [4,5,6], 'c' : [7,8,9]}) # 이건 엑셀표현식이랑 유사한 듯\n",
    "print(testDF1, '\\n')\n",
    "\n",
    "testDF2 = pd.DataFrame([[1,2,3], [4,5,6], [7,8,9]], ['a', 'b', 'c'])\n",
    "print(testDF2)"
   ]
  },
  {
   "cell_type": "code",
   "execution_count": 31,
   "id": "47980373",
   "metadata": {},
   "outputs": [
    {
     "name": "stdout",
     "output_type": "stream",
     "text": [
      "head()\n",
      "    Unnamed: 0   airline   flight source_city departure_time stops  \\\n",
      "0           0  SpiceJet  SG-8709       Delhi        Evening  zero   \n",
      "1           1  SpiceJet  SG-8157       Delhi  Early_Morning  zero   \n",
      "2           2   AirAsia   I5-764       Delhi  Early_Morning  zero   \n",
      "3           3   Vistara   UK-995       Delhi        Morning  zero   \n",
      "4           4   Vistara   UK-963       Delhi        Morning  zero   \n",
      "\n",
      "    arrival_time destination_city    class  duration  days_left  price  \n",
      "0          Night           Mumbai  Economy      2.17          1   5953  \n",
      "1        Morning           Mumbai  Economy      2.33          1   5953  \n",
      "2  Early_Morning           Mumbai  Economy      2.17          1   5956  \n",
      "3      Afternoon           Mumbai  Economy      2.25          1   5955  \n",
      "4        Morning           Mumbai  Economy      2.33          1   5955  \n",
      "++++++++++++++++++++++++++++++++++++++++++++++++++++++++++++++++++++++++++++++++++++++++\n",
      "info\n",
      " <bound method DataFrame.info of         Unnamed: 0   airline   flight source_city departure_time stops  \\\n",
      "0                0  SpiceJet  SG-8709       Delhi        Evening  zero   \n",
      "1                1  SpiceJet  SG-8157       Delhi  Early_Morning  zero   \n",
      "2                2   AirAsia   I5-764       Delhi  Early_Morning  zero   \n",
      "3                3   Vistara   UK-995       Delhi        Morning  zero   \n",
      "4                4   Vistara   UK-963       Delhi        Morning  zero   \n",
      "...            ...       ...      ...         ...            ...   ...   \n",
      "300148      300148   Vistara   UK-822     Chennai        Morning   one   \n",
      "300149      300149   Vistara   UK-826     Chennai      Afternoon   one   \n",
      "300150      300150   Vistara   UK-832     Chennai  Early_Morning   one   \n",
      "300151      300151   Vistara   UK-828     Chennai  Early_Morning   one   \n",
      "300152      300152   Vistara   UK-822     Chennai        Morning   one   \n",
      "\n",
      "         arrival_time destination_city     class  duration  days_left  price  \n",
      "0               Night           Mumbai   Economy      2.17          1   5953  \n",
      "1             Morning           Mumbai   Economy      2.33          1   5953  \n",
      "2       Early_Morning           Mumbai   Economy      2.17          1   5956  \n",
      "3           Afternoon           Mumbai   Economy      2.25          1   5955  \n",
      "4             Morning           Mumbai   Economy      2.33          1   5955  \n",
      "...               ...              ...       ...       ...        ...    ...  \n",
      "300148        Evening        Hyderabad  Business     10.08         49  69265  \n",
      "300149          Night        Hyderabad  Business     10.42         49  77105  \n",
      "300150          Night        Hyderabad  Business     13.83         49  79099  \n",
      "300151        Evening        Hyderabad  Business     10.00         49  81585  \n",
      "300152        Evening        Hyderabad  Business     10.08         49  81585  \n",
      "\n",
      "[300153 rows x 12 columns]>\n",
      "++++++++++++++++++++++++++++++++++++++++++++++++++++++++++++++++++++++++++++++++++++++++\n",
      "shape\n",
      " (300153, 12)\n",
      "++++++++++++++++++++++++++++++++++++++++++++++++++++++++++++++++++++++++++++++++++++++++\n",
      "index RangeIndex(start=0, stop=300153, step=1)\n",
      "++++++++++++++++++++++++++++++++++++++++++++++++++++++++++++++++++++++++++++++++++++++++\n",
      "columns\n",
      " Index(['Unnamed: 0', 'airline', 'flight', 'source_city', 'departure_time',\n",
      "       'stops', 'arrival_time', 'destination_city', 'class', 'duration',\n",
      "       'days_left', 'price'],\n",
      "      dtype='object')\n",
      "++++++++++++++++++++++++++++++++++++++++++++++++++++++++++++++++++++++++++++++++++++++++\n",
      "0    SpiceJet\n",
      "1    SpiceJet\n",
      "2     AirAsia\n",
      "3     Vistara\n",
      "4     Vistara\n",
      "5     Vistara\n",
      "6     Vistara\n",
      "7     Vistara\n",
      "8    GO_FIRST\n",
      "9    GO_FIRST\n",
      "Name: airline, dtype: object\n",
      "++++++++++++++++++++++++++++++++++++++++++++++++++++++++++++++++++++++++++++++++++++++++\n",
      "describe()           Unnamed: 0       duration      days_left          price\n",
      "count  300153.000000  300153.000000  300153.000000  300153.000000\n",
      "mean   150076.000000      12.221021      26.004751   20889.660523\n",
      "std     86646.852011       7.191997      13.561004   22697.767366\n",
      "min         0.000000       0.830000       1.000000    1105.000000\n",
      "25%     75038.000000       6.830000      15.000000    4783.000000\n",
      "50%    150076.000000      11.250000      26.000000    7425.000000\n",
      "75%    225114.000000      16.170000      38.000000   42521.000000\n",
      "max    300152.000000      49.830000      49.000000  123071.000000\n"
     ]
    }
   ],
   "source": [
    "flightData = pd.read_csv('../AICE_Data/Clean_Dataset.csv', encoding='cp949')\n",
    "print('head()\\n', flightData.head())\n",
    "print('++++++++++++++++++++++++++++++++++++++++++++++++++++++++++++++++++++++++++++++++++++++++')\n",
    "print('info\\n', flightData.info)\n",
    "print('++++++++++++++++++++++++++++++++++++++++++++++++++++++++++++++++++++++++++++++++++++++++')\n",
    "print('shape\\n', flightData.shape)\n",
    "print('++++++++++++++++++++++++++++++++++++++++++++++++++++++++++++++++++++++++++++++++++++++++')\n",
    "print('index', flightData.index)\n",
    "print('++++++++++++++++++++++++++++++++++++++++++++++++++++++++++++++++++++++++++++++++++++++++')\n",
    "print('columns\\n', flightData.columns)\n",
    "print('++++++++++++++++++++++++++++++++++++++++++++++++++++++++++++++++++++++++++++++++++++++++')\n",
    "print(flightData['airline'][:10])\n",
    "print('++++++++++++++++++++++++++++++++++++++++++++++++++++++++++++++++++++++++++++++++++++++++')\n",
    "print('describe()', flightData.describe())\n",
    "#flightData.to_csv('./saveTest.csv')"
   ]
  },
  {
   "cell_type": "markdown",
   "id": "5647beaf",
   "metadata": {},
   "source": [
    "### 231217"
   ]
  },
  {
   "cell_type": "code",
   "execution_count": 20,
   "id": "fec9b2d5",
   "metadata": {},
   "outputs": [
    {
     "data": {
      "text/html": [
       "<div>\n",
       "<style scoped>\n",
       "    .dataframe tbody tr th:only-of-type {\n",
       "        vertical-align: middle;\n",
       "    }\n",
       "\n",
       "    .dataframe tbody tr th {\n",
       "        vertical-align: top;\n",
       "    }\n",
       "\n",
       "    .dataframe thead th {\n",
       "        text-align: right;\n",
       "    }\n",
       "</style>\n",
       "<table border=\"1\" class=\"dataframe\">\n",
       "  <thead>\n",
       "    <tr style=\"text-align: right;\">\n",
       "      <th></th>\n",
       "      <th>Unnamed: 0</th>\n",
       "      <th>airline</th>\n",
       "      <th>flight</th>\n",
       "      <th>source_city</th>\n",
       "      <th>departure_time</th>\n",
       "      <th>stops</th>\n",
       "      <th>arrival_time</th>\n",
       "      <th>destination_city</th>\n",
       "      <th>class</th>\n",
       "      <th>duration</th>\n",
       "      <th>days_left</th>\n",
       "      <th>price</th>\n",
       "    </tr>\n",
       "  </thead>\n",
       "  <tbody>\n",
       "    <tr>\n",
       "      <th>40</th>\n",
       "      <td>40</td>\n",
       "      <td>Air_India</td>\n",
       "      <td>AI-504</td>\n",
       "      <td>Delhi</td>\n",
       "      <td>Night</td>\n",
       "      <td>one</td>\n",
       "      <td>Morning</td>\n",
       "      <td>Mumbai</td>\n",
       "      <td>Economy</td>\n",
       "      <td>11.00</td>\n",
       "      <td>1</td>\n",
       "      <td>12150</td>\n",
       "    </tr>\n",
       "    <tr>\n",
       "      <th>41</th>\n",
       "      <td>41</td>\n",
       "      <td>Air_India</td>\n",
       "      <td>AI-502</td>\n",
       "      <td>Delhi</td>\n",
       "      <td>Afternoon</td>\n",
       "      <td>one</td>\n",
       "      <td>Morning</td>\n",
       "      <td>Mumbai</td>\n",
       "      <td>Economy</td>\n",
       "      <td>19.08</td>\n",
       "      <td>1</td>\n",
       "      <td>12150</td>\n",
       "    </tr>\n",
       "    <tr>\n",
       "      <th>42</th>\n",
       "      <td>42</td>\n",
       "      <td>Air_India</td>\n",
       "      <td>AI-506</td>\n",
       "      <td>Delhi</td>\n",
       "      <td>Morning</td>\n",
       "      <td>one</td>\n",
       "      <td>Morning</td>\n",
       "      <td>Mumbai</td>\n",
       "      <td>Economy</td>\n",
       "      <td>22.83</td>\n",
       "      <td>1</td>\n",
       "      <td>12150</td>\n",
       "    </tr>\n",
       "    <tr>\n",
       "      <th>43</th>\n",
       "      <td>43</td>\n",
       "      <td>Air_India</td>\n",
       "      <td>AI-803</td>\n",
       "      <td>Delhi</td>\n",
       "      <td>Early_Morning</td>\n",
       "      <td>one</td>\n",
       "      <td>Morning</td>\n",
       "      <td>Mumbai</td>\n",
       "      <td>Economy</td>\n",
       "      <td>26.42</td>\n",
       "      <td>1</td>\n",
       "      <td>12150</td>\n",
       "    </tr>\n",
       "    <tr>\n",
       "      <th>44</th>\n",
       "      <td>44</td>\n",
       "      <td>Air_India</td>\n",
       "      <td>AI-479</td>\n",
       "      <td>Delhi</td>\n",
       "      <td>Night</td>\n",
       "      <td>one</td>\n",
       "      <td>Afternoon</td>\n",
       "      <td>Mumbai</td>\n",
       "      <td>Economy</td>\n",
       "      <td>17.75</td>\n",
       "      <td>1</td>\n",
       "      <td>12215</td>\n",
       "    </tr>\n",
       "    <tr>\n",
       "      <th>...</th>\n",
       "      <td>...</td>\n",
       "      <td>...</td>\n",
       "      <td>...</td>\n",
       "      <td>...</td>\n",
       "      <td>...</td>\n",
       "      <td>...</td>\n",
       "      <td>...</td>\n",
       "      <td>...</td>\n",
       "      <td>...</td>\n",
       "      <td>...</td>\n",
       "      <td>...</td>\n",
       "      <td>...</td>\n",
       "    </tr>\n",
       "    <tr>\n",
       "      <th>300143</th>\n",
       "      <td>300143</td>\n",
       "      <td>Air_India</td>\n",
       "      <td>AI-440</td>\n",
       "      <td>Chennai</td>\n",
       "      <td>Early_Morning</td>\n",
       "      <td>one</td>\n",
       "      <td>Night</td>\n",
       "      <td>Hyderabad</td>\n",
       "      <td>Business</td>\n",
       "      <td>17.42</td>\n",
       "      <td>49</td>\n",
       "      <td>51345</td>\n",
       "    </tr>\n",
       "    <tr>\n",
       "      <th>300144</th>\n",
       "      <td>300144</td>\n",
       "      <td>Air_India</td>\n",
       "      <td>AI-539</td>\n",
       "      <td>Chennai</td>\n",
       "      <td>Evening</td>\n",
       "      <td>one</td>\n",
       "      <td>Morning</td>\n",
       "      <td>Hyderabad</td>\n",
       "      <td>Business</td>\n",
       "      <td>18.92</td>\n",
       "      <td>49</td>\n",
       "      <td>51345</td>\n",
       "    </tr>\n",
       "    <tr>\n",
       "      <th>300145</th>\n",
       "      <td>300145</td>\n",
       "      <td>Air_India</td>\n",
       "      <td>AI-430</td>\n",
       "      <td>Chennai</td>\n",
       "      <td>Morning</td>\n",
       "      <td>one</td>\n",
       "      <td>Morning</td>\n",
       "      <td>Hyderabad</td>\n",
       "      <td>Business</td>\n",
       "      <td>23.08</td>\n",
       "      <td>49</td>\n",
       "      <td>51345</td>\n",
       "    </tr>\n",
       "    <tr>\n",
       "      <th>300146</th>\n",
       "      <td>300146</td>\n",
       "      <td>Air_India</td>\n",
       "      <td>AI-440</td>\n",
       "      <td>Chennai</td>\n",
       "      <td>Early_Morning</td>\n",
       "      <td>one</td>\n",
       "      <td>Morning</td>\n",
       "      <td>Hyderabad</td>\n",
       "      <td>Business</td>\n",
       "      <td>26.83</td>\n",
       "      <td>49</td>\n",
       "      <td>51345</td>\n",
       "    </tr>\n",
       "    <tr>\n",
       "      <th>300147</th>\n",
       "      <td>300147</td>\n",
       "      <td>Air_India</td>\n",
       "      <td>AI-569</td>\n",
       "      <td>Chennai</td>\n",
       "      <td>Early_Morning</td>\n",
       "      <td>one</td>\n",
       "      <td>Night</td>\n",
       "      <td>Hyderabad</td>\n",
       "      <td>Business</td>\n",
       "      <td>17.25</td>\n",
       "      <td>49</td>\n",
       "      <td>68739</td>\n",
       "    </tr>\n",
       "  </tbody>\n",
       "</table>\n",
       "<p>39689 rows × 12 columns</p>\n",
       "</div>"
      ],
      "text/plain": [
       "        Unnamed: 0    airline  flight source_city departure_time stops  \\\n",
       "40              40  Air_India  AI-504       Delhi          Night   one   \n",
       "41              41  Air_India  AI-502       Delhi      Afternoon   one   \n",
       "42              42  Air_India  AI-506       Delhi        Morning   one   \n",
       "43              43  Air_India  AI-803       Delhi  Early_Morning   one   \n",
       "44              44  Air_India  AI-479       Delhi          Night   one   \n",
       "...            ...        ...     ...         ...            ...   ...   \n",
       "300143      300143  Air_India  AI-440     Chennai  Early_Morning   one   \n",
       "300144      300144  Air_India  AI-539     Chennai        Evening   one   \n",
       "300145      300145  Air_India  AI-430     Chennai        Morning   one   \n",
       "300146      300146  Air_India  AI-440     Chennai  Early_Morning   one   \n",
       "300147      300147  Air_India  AI-569     Chennai  Early_Morning   one   \n",
       "\n",
       "       arrival_time destination_city     class  duration  days_left  price  \n",
       "40          Morning           Mumbai   Economy     11.00          1  12150  \n",
       "41          Morning           Mumbai   Economy     19.08          1  12150  \n",
       "42          Morning           Mumbai   Economy     22.83          1  12150  \n",
       "43          Morning           Mumbai   Economy     26.42          1  12150  \n",
       "44        Afternoon           Mumbai   Economy     17.75          1  12215  \n",
       "...             ...              ...       ...       ...        ...    ...  \n",
       "300143        Night        Hyderabad  Business     17.42         49  51345  \n",
       "300144      Morning        Hyderabad  Business     18.92         49  51345  \n",
       "300145      Morning        Hyderabad  Business     23.08         49  51345  \n",
       "300146      Morning        Hyderabad  Business     26.83         49  51345  \n",
       "300147        Night        Hyderabad  Business     17.25         49  68739  \n",
       "\n",
       "[39689 rows x 12 columns]"
      ]
     },
     "execution_count": 20,
     "metadata": {},
     "output_type": "execute_result"
    }
   ],
   "source": [
    "flightData = pd.read_csv('../AICE_Data/Clean_Dataset.csv', encoding='cp949')\n",
    "priceTag = flightData['price']>12000\n",
    "airlineTag = flightData['airline']=='Air_India'\n",
    "flightDataHighPrice = flightData[(flightData['price']>12000) & (flightData['airline']=='Air_India')]\n",
    "#flightDataHighPrice\n",
    "flightDataHighPrice2 = flightData[priceTag & airlineTag]\n",
    "flightDataHighPrice2"
   ]
  },
  {
   "cell_type": "code",
   "execution_count": 16,
   "id": "dbd6764d",
   "metadata": {},
   "outputs": [
    {
     "data": {
      "text/html": [
       "<div>\n",
       "<style scoped>\n",
       "    .dataframe tbody tr th:only-of-type {\n",
       "        vertical-align: middle;\n",
       "    }\n",
       "\n",
       "    .dataframe tbody tr th {\n",
       "        vertical-align: top;\n",
       "    }\n",
       "\n",
       "    .dataframe thead th {\n",
       "        text-align: right;\n",
       "    }\n",
       "</style>\n",
       "<table border=\"1\" class=\"dataframe\">\n",
       "  <thead>\n",
       "    <tr style=\"text-align: right;\">\n",
       "      <th></th>\n",
       "      <th>Unnamed: 0</th>\n",
       "      <th>airline</th>\n",
       "      <th>flight</th>\n",
       "      <th>source_city</th>\n",
       "      <th>departure_time</th>\n",
       "      <th>stops</th>\n",
       "      <th>arrival_time</th>\n",
       "      <th>destination_city</th>\n",
       "      <th>class</th>\n",
       "      <th>duration</th>\n",
       "      <th>days_left</th>\n",
       "      <th>price</th>\n",
       "      <th>price2</th>\n",
       "      <th>price3</th>\n",
       "    </tr>\n",
       "  </thead>\n",
       "  <tbody>\n",
       "    <tr>\n",
       "      <th>0</th>\n",
       "      <td>0</td>\n",
       "      <td>SpiceJet</td>\n",
       "      <td>SG-8709</td>\n",
       "      <td>Delhi</td>\n",
       "      <td>Evening</td>\n",
       "      <td>zero</td>\n",
       "      <td>Night</td>\n",
       "      <td>Mumbai</td>\n",
       "      <td>Economy</td>\n",
       "      <td>2.17</td>\n",
       "      <td>1</td>\n",
       "      <td>5953</td>\n",
       "      <td>11906</td>\n",
       "      <td>17859</td>\n",
       "    </tr>\n",
       "    <tr>\n",
       "      <th>1</th>\n",
       "      <td>1</td>\n",
       "      <td>SpiceJet</td>\n",
       "      <td>SG-8157</td>\n",
       "      <td>Delhi</td>\n",
       "      <td>Early_Morning</td>\n",
       "      <td>zero</td>\n",
       "      <td>Morning</td>\n",
       "      <td>Mumbai</td>\n",
       "      <td>Economy</td>\n",
       "      <td>2.33</td>\n",
       "      <td>1</td>\n",
       "      <td>5953</td>\n",
       "      <td>11906</td>\n",
       "      <td>17859</td>\n",
       "    </tr>\n",
       "    <tr>\n",
       "      <th>3</th>\n",
       "      <td>3</td>\n",
       "      <td>Vistara</td>\n",
       "      <td>UK-995</td>\n",
       "      <td>Delhi</td>\n",
       "      <td>Morning</td>\n",
       "      <td>zero</td>\n",
       "      <td>Afternoon</td>\n",
       "      <td>Mumbai</td>\n",
       "      <td>Economy</td>\n",
       "      <td>2.25</td>\n",
       "      <td>1</td>\n",
       "      <td>5955</td>\n",
       "      <td>11910</td>\n",
       "      <td>17865</td>\n",
       "    </tr>\n",
       "    <tr>\n",
       "      <th>4</th>\n",
       "      <td>4</td>\n",
       "      <td>Vistara</td>\n",
       "      <td>UK-963</td>\n",
       "      <td>Delhi</td>\n",
       "      <td>Morning</td>\n",
       "      <td>zero</td>\n",
       "      <td>Morning</td>\n",
       "      <td>Mumbai</td>\n",
       "      <td>Economy</td>\n",
       "      <td>2.33</td>\n",
       "      <td>1</td>\n",
       "      <td>5955</td>\n",
       "      <td>11910</td>\n",
       "      <td>17865</td>\n",
       "    </tr>\n",
       "    <tr>\n",
       "      <th>5</th>\n",
       "      <td>5</td>\n",
       "      <td>Vistara</td>\n",
       "      <td>UK-945</td>\n",
       "      <td>Delhi</td>\n",
       "      <td>Morning</td>\n",
       "      <td>zero</td>\n",
       "      <td>Afternoon</td>\n",
       "      <td>Mumbai</td>\n",
       "      <td>Economy</td>\n",
       "      <td>2.33</td>\n",
       "      <td>1</td>\n",
       "      <td>5955</td>\n",
       "      <td>11910</td>\n",
       "      <td>17865</td>\n",
       "    </tr>\n",
       "  </tbody>\n",
       "</table>\n",
       "</div>"
      ],
      "text/plain": [
       "   Unnamed: 0   airline   flight source_city departure_time stops  \\\n",
       "0           0  SpiceJet  SG-8709       Delhi        Evening  zero   \n",
       "1           1  SpiceJet  SG-8157       Delhi  Early_Morning  zero   \n",
       "3           3   Vistara   UK-995       Delhi        Morning  zero   \n",
       "4           4   Vistara   UK-963       Delhi        Morning  zero   \n",
       "5           5   Vistara   UK-945       Delhi        Morning  zero   \n",
       "\n",
       "  arrival_time destination_city    class  duration  days_left  price  price2  \\\n",
       "0        Night           Mumbai  Economy      2.17          1   5953   11906   \n",
       "1      Morning           Mumbai  Economy      2.33          1   5953   11906   \n",
       "3    Afternoon           Mumbai  Economy      2.25          1   5955   11910   \n",
       "4      Morning           Mumbai  Economy      2.33          1   5955   11910   \n",
       "5    Afternoon           Mumbai  Economy      2.33          1   5955   11910   \n",
       "\n",
       "   price3  \n",
       "0   17859  \n",
       "1   17859  \n",
       "3   17865  \n",
       "4   17865  \n",
       "5   17865  "
      ]
     },
     "execution_count": 16,
     "metadata": {},
     "output_type": "execute_result"
    }
   ],
   "source": [
    "flightData['price2']=flightData['price']*2\n",
    "flightData['price3']=flightData['price']*3\n",
    "#flightData.drop('price2', axis=1).head() # 컬럼명, axis=1 로 지정하면 열 단위 삭제\n",
    "flightData.drop(index=2, axis=0).head() # 인덱스, axis=0 으로 지정하면 행 단위 삭제"
   ]
  },
  {
   "cell_type": "code",
   "execution_count": 25,
   "id": "b7a31507",
   "metadata": {},
   "outputs": [
    {
     "data": {
      "text/html": [
       "<div>\n",
       "<style scoped>\n",
       "    .dataframe tbody tr th:only-of-type {\n",
       "        vertical-align: middle;\n",
       "    }\n",
       "\n",
       "    .dataframe tbody tr th {\n",
       "        vertical-align: top;\n",
       "    }\n",
       "\n",
       "    .dataframe thead th {\n",
       "        text-align: right;\n",
       "    }\n",
       "</style>\n",
       "<table border=\"1\" class=\"dataframe\">\n",
       "  <thead>\n",
       "    <tr style=\"text-align: right;\">\n",
       "      <th></th>\n",
       "      <th>Unnamed: 0</th>\n",
       "      <th>flight</th>\n",
       "      <th>source_city</th>\n",
       "      <th>departure_time</th>\n",
       "      <th>stops</th>\n",
       "      <th>arrival_time</th>\n",
       "      <th>destination_city</th>\n",
       "      <th>class</th>\n",
       "      <th>duration</th>\n",
       "      <th>days_left</th>\n",
       "      <th>price</th>\n",
       "    </tr>\n",
       "    <tr>\n",
       "      <th>airline</th>\n",
       "      <th></th>\n",
       "      <th></th>\n",
       "      <th></th>\n",
       "      <th></th>\n",
       "      <th></th>\n",
       "      <th></th>\n",
       "      <th></th>\n",
       "      <th></th>\n",
       "      <th></th>\n",
       "      <th></th>\n",
       "      <th></th>\n",
       "    </tr>\n",
       "  </thead>\n",
       "  <tbody>\n",
       "    <tr>\n",
       "      <th>AirAsia</th>\n",
       "      <td>16098</td>\n",
       "      <td>16098</td>\n",
       "      <td>16098</td>\n",
       "      <td>16098</td>\n",
       "      <td>16098</td>\n",
       "      <td>16098</td>\n",
       "      <td>16098</td>\n",
       "      <td>16098</td>\n",
       "      <td>16098</td>\n",
       "      <td>16098</td>\n",
       "      <td>16098</td>\n",
       "    </tr>\n",
       "    <tr>\n",
       "      <th>Air_India</th>\n",
       "      <td>80892</td>\n",
       "      <td>80892</td>\n",
       "      <td>80892</td>\n",
       "      <td>80892</td>\n",
       "      <td>80892</td>\n",
       "      <td>80892</td>\n",
       "      <td>80892</td>\n",
       "      <td>80892</td>\n",
       "      <td>80892</td>\n",
       "      <td>80892</td>\n",
       "      <td>80892</td>\n",
       "    </tr>\n",
       "    <tr>\n",
       "      <th>GO_FIRST</th>\n",
       "      <td>23173</td>\n",
       "      <td>23173</td>\n",
       "      <td>23173</td>\n",
       "      <td>23173</td>\n",
       "      <td>23173</td>\n",
       "      <td>23173</td>\n",
       "      <td>23173</td>\n",
       "      <td>23173</td>\n",
       "      <td>23173</td>\n",
       "      <td>23173</td>\n",
       "      <td>23173</td>\n",
       "    </tr>\n",
       "    <tr>\n",
       "      <th>Indigo</th>\n",
       "      <td>43120</td>\n",
       "      <td>43120</td>\n",
       "      <td>43120</td>\n",
       "      <td>43120</td>\n",
       "      <td>43120</td>\n",
       "      <td>43120</td>\n",
       "      <td>43120</td>\n",
       "      <td>43120</td>\n",
       "      <td>43120</td>\n",
       "      <td>43120</td>\n",
       "      <td>43120</td>\n",
       "    </tr>\n",
       "    <tr>\n",
       "      <th>SpiceJet</th>\n",
       "      <td>9011</td>\n",
       "      <td>9011</td>\n",
       "      <td>9011</td>\n",
       "      <td>9011</td>\n",
       "      <td>9011</td>\n",
       "      <td>9011</td>\n",
       "      <td>9011</td>\n",
       "      <td>9011</td>\n",
       "      <td>9011</td>\n",
       "      <td>9011</td>\n",
       "      <td>9011</td>\n",
       "    </tr>\n",
       "    <tr>\n",
       "      <th>Vistara</th>\n",
       "      <td>127859</td>\n",
       "      <td>127859</td>\n",
       "      <td>127859</td>\n",
       "      <td>127859</td>\n",
       "      <td>127859</td>\n",
       "      <td>127859</td>\n",
       "      <td>127859</td>\n",
       "      <td>127859</td>\n",
       "      <td>127859</td>\n",
       "      <td>127859</td>\n",
       "      <td>127859</td>\n",
       "    </tr>\n",
       "  </tbody>\n",
       "</table>\n",
       "</div>"
      ],
      "text/plain": [
       "           Unnamed: 0  flight  source_city  departure_time   stops  \\\n",
       "airline                                                              \n",
       "AirAsia         16098   16098        16098           16098   16098   \n",
       "Air_India       80892   80892        80892           80892   80892   \n",
       "GO_FIRST        23173   23173        23173           23173   23173   \n",
       "Indigo          43120   43120        43120           43120   43120   \n",
       "SpiceJet         9011    9011         9011            9011    9011   \n",
       "Vistara        127859  127859       127859          127859  127859   \n",
       "\n",
       "           arrival_time  destination_city   class  duration  days_left   price  \n",
       "airline                                                                         \n",
       "AirAsia           16098             16098   16098     16098      16098   16098  \n",
       "Air_India         80892             80892   80892     80892      80892   80892  \n",
       "GO_FIRST          23173             23173   23173     23173      23173   23173  \n",
       "Indigo            43120             43120   43120     43120      43120   43120  \n",
       "SpiceJet           9011              9011    9011      9011       9011    9011  \n",
       "Vistara          127859            127859  127859    127859     127859  127859  "
      ]
     },
     "execution_count": 25,
     "metadata": {},
     "output_type": "execute_result"
    }
   ],
   "source": [
    "flightDataGroup = flightData.groupby('airline')\n",
    "flightDataGroup.groups # 그룹화 확인\n",
    "flightDataGroup.count()"
   ]
  },
  {
   "cell_type": "code",
   "execution_count": 26,
   "id": "fdf1fba3",
   "metadata": {},
   "outputs": [],
   "source": [
    "df1 = pd.DataFrame({'col1' : ['사과','배','감','수박','메론'], 'col2' : [500, 1000, 2500, 5000,3000]}, index=[0,1,2,3,4])\n",
    "df2 = pd.DataFrame({'col1' : ['수박','메론','딸기','키위','오렌지'], 'col2' : [5000,3000,1000,600,700]}, index=[3,4,5,6,7])"
   ]
  },
  {
   "cell_type": "code",
   "execution_count": 27,
   "id": "5569efdc",
   "metadata": {},
   "outputs": [
    {
     "data": {
      "text/html": [
       "<div>\n",
       "<style scoped>\n",
       "    .dataframe tbody tr th:only-of-type {\n",
       "        vertical-align: middle;\n",
       "    }\n",
       "\n",
       "    .dataframe tbody tr th {\n",
       "        vertical-align: top;\n",
       "    }\n",
       "\n",
       "    .dataframe thead th {\n",
       "        text-align: right;\n",
       "    }\n",
       "</style>\n",
       "<table border=\"1\" class=\"dataframe\">\n",
       "  <thead>\n",
       "    <tr style=\"text-align: right;\">\n",
       "      <th></th>\n",
       "      <th>col1</th>\n",
       "      <th>col2</th>\n",
       "    </tr>\n",
       "  </thead>\n",
       "  <tbody>\n",
       "    <tr>\n",
       "      <th>0</th>\n",
       "      <td>사과</td>\n",
       "      <td>500</td>\n",
       "    </tr>\n",
       "    <tr>\n",
       "      <th>1</th>\n",
       "      <td>배</td>\n",
       "      <td>1000</td>\n",
       "    </tr>\n",
       "    <tr>\n",
       "      <th>2</th>\n",
       "      <td>감</td>\n",
       "      <td>2500</td>\n",
       "    </tr>\n",
       "    <tr>\n",
       "      <th>3</th>\n",
       "      <td>수박</td>\n",
       "      <td>5000</td>\n",
       "    </tr>\n",
       "    <tr>\n",
       "      <th>4</th>\n",
       "      <td>메론</td>\n",
       "      <td>3000</td>\n",
       "    </tr>\n",
       "  </tbody>\n",
       "</table>\n",
       "</div>"
      ],
      "text/plain": [
       "  col1  col2\n",
       "0   사과   500\n",
       "1    배  1000\n",
       "2    감  2500\n",
       "3   수박  5000\n",
       "4   메론  3000"
      ]
     },
     "execution_count": 27,
     "metadata": {},
     "output_type": "execute_result"
    }
   ],
   "source": [
    "df1"
   ]
  },
  {
   "cell_type": "code",
   "execution_count": 28,
   "id": "7a9d2d4d",
   "metadata": {},
   "outputs": [
    {
     "data": {
      "text/html": [
       "<div>\n",
       "<style scoped>\n",
       "    .dataframe tbody tr th:only-of-type {\n",
       "        vertical-align: middle;\n",
       "    }\n",
       "\n",
       "    .dataframe tbody tr th {\n",
       "        vertical-align: top;\n",
       "    }\n",
       "\n",
       "    .dataframe thead th {\n",
       "        text-align: right;\n",
       "    }\n",
       "</style>\n",
       "<table border=\"1\" class=\"dataframe\">\n",
       "  <thead>\n",
       "    <tr style=\"text-align: right;\">\n",
       "      <th></th>\n",
       "      <th>col1</th>\n",
       "      <th>col2</th>\n",
       "    </tr>\n",
       "  </thead>\n",
       "  <tbody>\n",
       "    <tr>\n",
       "      <th>3</th>\n",
       "      <td>수박</td>\n",
       "      <td>5000</td>\n",
       "    </tr>\n",
       "    <tr>\n",
       "      <th>4</th>\n",
       "      <td>메론</td>\n",
       "      <td>3000</td>\n",
       "    </tr>\n",
       "    <tr>\n",
       "      <th>5</th>\n",
       "      <td>딸기</td>\n",
       "      <td>1000</td>\n",
       "    </tr>\n",
       "    <tr>\n",
       "      <th>6</th>\n",
       "      <td>키위</td>\n",
       "      <td>600</td>\n",
       "    </tr>\n",
       "    <tr>\n",
       "      <th>7</th>\n",
       "      <td>오렌지</td>\n",
       "      <td>700</td>\n",
       "    </tr>\n",
       "  </tbody>\n",
       "</table>\n",
       "</div>"
      ],
      "text/plain": [
       "  col1  col2\n",
       "3   수박  5000\n",
       "4   메론  3000\n",
       "5   딸기  1000\n",
       "6   키위   600\n",
       "7  오렌지   700"
      ]
     },
     "execution_count": 28,
     "metadata": {},
     "output_type": "execute_result"
    }
   ],
   "source": [
    "df2"
   ]
  },
  {
   "cell_type": "code",
   "execution_count": 30,
   "id": "744a998e",
   "metadata": {},
   "outputs": [
    {
     "data": {
      "text/html": [
       "<div>\n",
       "<style scoped>\n",
       "    .dataframe tbody tr th:only-of-type {\n",
       "        vertical-align: middle;\n",
       "    }\n",
       "\n",
       "    .dataframe tbody tr th {\n",
       "        vertical-align: top;\n",
       "    }\n",
       "\n",
       "    .dataframe thead th {\n",
       "        text-align: right;\n",
       "    }\n",
       "</style>\n",
       "<table border=\"1\" class=\"dataframe\">\n",
       "  <thead>\n",
       "    <tr style=\"text-align: right;\">\n",
       "      <th></th>\n",
       "      <th>col1</th>\n",
       "      <th>col2</th>\n",
       "    </tr>\n",
       "  </thead>\n",
       "  <tbody>\n",
       "    <tr>\n",
       "      <th>0</th>\n",
       "      <td>사과</td>\n",
       "      <td>500</td>\n",
       "    </tr>\n",
       "    <tr>\n",
       "      <th>1</th>\n",
       "      <td>배</td>\n",
       "      <td>1000</td>\n",
       "    </tr>\n",
       "    <tr>\n",
       "      <th>2</th>\n",
       "      <td>감</td>\n",
       "      <td>2500</td>\n",
       "    </tr>\n",
       "    <tr>\n",
       "      <th>3</th>\n",
       "      <td>수박</td>\n",
       "      <td>5000</td>\n",
       "    </tr>\n",
       "    <tr>\n",
       "      <th>4</th>\n",
       "      <td>메론</td>\n",
       "      <td>3000</td>\n",
       "    </tr>\n",
       "    <tr>\n",
       "      <th>3</th>\n",
       "      <td>수박</td>\n",
       "      <td>5000</td>\n",
       "    </tr>\n",
       "    <tr>\n",
       "      <th>4</th>\n",
       "      <td>메론</td>\n",
       "      <td>3000</td>\n",
       "    </tr>\n",
       "    <tr>\n",
       "      <th>5</th>\n",
       "      <td>딸기</td>\n",
       "      <td>1000</td>\n",
       "    </tr>\n",
       "    <tr>\n",
       "      <th>6</th>\n",
       "      <td>키위</td>\n",
       "      <td>600</td>\n",
       "    </tr>\n",
       "    <tr>\n",
       "      <th>7</th>\n",
       "      <td>오렌지</td>\n",
       "      <td>700</td>\n",
       "    </tr>\n",
       "  </tbody>\n",
       "</table>\n",
       "</div>"
      ],
      "text/plain": [
       "  col1  col2\n",
       "0   사과   500\n",
       "1    배  1000\n",
       "2    감  2500\n",
       "3   수박  5000\n",
       "4   메론  3000\n",
       "3   수박  5000\n",
       "4   메론  3000\n",
       "5   딸기  1000\n",
       "6   키위   600\n",
       "7  오렌지   700"
      ]
     },
     "execution_count": 30,
     "metadata": {},
     "output_type": "execute_result"
    }
   ],
   "source": [
    "df3 = pd.concat([df1, df2], ignore_index=False)\n",
    "df3"
   ]
  },
  {
   "cell_type": "code",
   "execution_count": 31,
   "id": "fc0656d6",
   "metadata": {},
   "outputs": [
    {
     "data": {
      "text/html": [
       "<div>\n",
       "<style scoped>\n",
       "    .dataframe tbody tr th:only-of-type {\n",
       "        vertical-align: middle;\n",
       "    }\n",
       "\n",
       "    .dataframe tbody tr th {\n",
       "        vertical-align: top;\n",
       "    }\n",
       "\n",
       "    .dataframe thead th {\n",
       "        text-align: right;\n",
       "    }\n",
       "</style>\n",
       "<table border=\"1\" class=\"dataframe\">\n",
       "  <thead>\n",
       "    <tr style=\"text-align: right;\">\n",
       "      <th></th>\n",
       "      <th>col1</th>\n",
       "      <th>col2</th>\n",
       "    </tr>\n",
       "  </thead>\n",
       "  <tbody>\n",
       "    <tr>\n",
       "      <th>0</th>\n",
       "      <td>사과</td>\n",
       "      <td>500</td>\n",
       "    </tr>\n",
       "    <tr>\n",
       "      <th>1</th>\n",
       "      <td>배</td>\n",
       "      <td>1000</td>\n",
       "    </tr>\n",
       "    <tr>\n",
       "      <th>2</th>\n",
       "      <td>감</td>\n",
       "      <td>2500</td>\n",
       "    </tr>\n",
       "    <tr>\n",
       "      <th>3</th>\n",
       "      <td>수박</td>\n",
       "      <td>5000</td>\n",
       "    </tr>\n",
       "    <tr>\n",
       "      <th>4</th>\n",
       "      <td>메론</td>\n",
       "      <td>3000</td>\n",
       "    </tr>\n",
       "    <tr>\n",
       "      <th>5</th>\n",
       "      <td>수박</td>\n",
       "      <td>5000</td>\n",
       "    </tr>\n",
       "    <tr>\n",
       "      <th>6</th>\n",
       "      <td>메론</td>\n",
       "      <td>3000</td>\n",
       "    </tr>\n",
       "    <tr>\n",
       "      <th>7</th>\n",
       "      <td>딸기</td>\n",
       "      <td>1000</td>\n",
       "    </tr>\n",
       "    <tr>\n",
       "      <th>8</th>\n",
       "      <td>키위</td>\n",
       "      <td>600</td>\n",
       "    </tr>\n",
       "    <tr>\n",
       "      <th>9</th>\n",
       "      <td>오렌지</td>\n",
       "      <td>700</td>\n",
       "    </tr>\n",
       "  </tbody>\n",
       "</table>\n",
       "</div>"
      ],
      "text/plain": [
       "  col1  col2\n",
       "0   사과   500\n",
       "1    배  1000\n",
       "2    감  2500\n",
       "3   수박  5000\n",
       "4   메론  3000\n",
       "5   수박  5000\n",
       "6   메론  3000\n",
       "7   딸기  1000\n",
       "8   키위   600\n",
       "9  오렌지   700"
      ]
     },
     "execution_count": 31,
     "metadata": {},
     "output_type": "execute_result"
    }
   ],
   "source": [
    "df4 = pd.concat([df1, df2], ignore_index=True)\n",
    "df4"
   ]
  },
  {
   "cell_type": "code",
   "execution_count": null,
   "id": "44adc492",
   "metadata": {},
   "outputs": [],
   "source": [
    "\"\"\"\n",
    "- concat에서 axis를 지정하여 행레벨 병합 or 컬럼 레벨 병합을 선택 가능\n",
    "- 두 df의 컬럼명이 다를 경우 join을 사용하여 병합 가능 (누락 데이터는 NaN으로 표시됨)\n",
    "- merge를 통해서 두 데이터를 병합할 수도 있으며, 동일 ID와 같은 특정 컬럼을 기준으로 병합\n",
    "- merge의 경우 한쪽 데이터에서 누락된 데이터에 대해서 병합할지 안 할지 선택 가능.\n",
    "\"\"\""
   ]
  },
  {
   "cell_type": "code",
   "execution_count": 33,
   "id": "adfec3bc",
   "metadata": {},
   "outputs": [
    {
     "data": {
      "text/html": [
       "<div>\n",
       "<style scoped>\n",
       "    .dataframe tbody tr th:only-of-type {\n",
       "        vertical-align: middle;\n",
       "    }\n",
       "\n",
       "    .dataframe tbody tr th {\n",
       "        vertical-align: top;\n",
       "    }\n",
       "\n",
       "    .dataframe thead th {\n",
       "        text-align: right;\n",
       "    }\n",
       "</style>\n",
       "<table border=\"1\" class=\"dataframe\">\n",
       "  <thead>\n",
       "    <tr style=\"text-align: right;\">\n",
       "      <th></th>\n",
       "      <th>Unnamed: 0</th>\n",
       "      <th>duration</th>\n",
       "      <th>days_left</th>\n",
       "      <th>price</th>\n",
       "    </tr>\n",
       "  </thead>\n",
       "  <tbody>\n",
       "    <tr>\n",
       "      <th>Unnamed: 0</th>\n",
       "      <td>1.000000</td>\n",
       "      <td>0.159007</td>\n",
       "      <td>0.014638</td>\n",
       "      <td>0.761177</td>\n",
       "    </tr>\n",
       "    <tr>\n",
       "      <th>duration</th>\n",
       "      <td>0.159007</td>\n",
       "      <td>1.000000</td>\n",
       "      <td>-0.039157</td>\n",
       "      <td>0.204222</td>\n",
       "    </tr>\n",
       "    <tr>\n",
       "      <th>days_left</th>\n",
       "      <td>0.014638</td>\n",
       "      <td>-0.039157</td>\n",
       "      <td>1.000000</td>\n",
       "      <td>-0.091949</td>\n",
       "    </tr>\n",
       "    <tr>\n",
       "      <th>price</th>\n",
       "      <td>0.761177</td>\n",
       "      <td>0.204222</td>\n",
       "      <td>-0.091949</td>\n",
       "      <td>1.000000</td>\n",
       "    </tr>\n",
       "  </tbody>\n",
       "</table>\n",
       "</div>"
      ],
      "text/plain": [
       "            Unnamed: 0  duration  days_left     price\n",
       "Unnamed: 0    1.000000  0.159007   0.014638  0.761177\n",
       "duration      0.159007  1.000000  -0.039157  0.204222\n",
       "days_left     0.014638 -0.039157   1.000000 -0.091949\n",
       "price         0.761177  0.204222  -0.091949  1.000000"
      ]
     },
     "execution_count": 33,
     "metadata": {},
     "output_type": "execute_result"
    }
   ],
   "source": [
    "flightData = pd.read_csv('../AICE_Data/Clean_Dataset.csv', encoding='cp949')\n",
    "flightData.corr() # 상관계수"
   ]
  },
  {
   "cell_type": "code",
   "execution_count": 34,
   "id": "8b630113",
   "metadata": {},
   "outputs": [
    {
     "data": {
      "text/html": [
       "<div>\n",
       "<style scoped>\n",
       "    .dataframe tbody tr th:only-of-type {\n",
       "        vertical-align: middle;\n",
       "    }\n",
       "\n",
       "    .dataframe tbody tr th {\n",
       "        vertical-align: top;\n",
       "    }\n",
       "\n",
       "    .dataframe thead th {\n",
       "        text-align: right;\n",
       "    }\n",
       "</style>\n",
       "<table border=\"1\" class=\"dataframe\">\n",
       "  <thead>\n",
       "    <tr style=\"text-align: right;\">\n",
       "      <th>departure_time</th>\n",
       "      <th>Afternoon</th>\n",
       "      <th>Early_Morning</th>\n",
       "      <th>Evening</th>\n",
       "      <th>Late_Night</th>\n",
       "      <th>Morning</th>\n",
       "      <th>Night</th>\n",
       "    </tr>\n",
       "    <tr>\n",
       "      <th>source_city</th>\n",
       "      <th></th>\n",
       "      <th></th>\n",
       "      <th></th>\n",
       "      <th></th>\n",
       "      <th></th>\n",
       "      <th></th>\n",
       "    </tr>\n",
       "  </thead>\n",
       "  <tbody>\n",
       "    <tr>\n",
       "      <th>Bangalore</th>\n",
       "      <td>5183</td>\n",
       "      <td>13611</td>\n",
       "      <td>14243</td>\n",
       "      <td>457</td>\n",
       "      <td>12323</td>\n",
       "      <td>6244</td>\n",
       "    </tr>\n",
       "    <tr>\n",
       "      <th>Chennai</th>\n",
       "      <td>5807</td>\n",
       "      <td>9319</td>\n",
       "      <td>5402</td>\n",
       "      <td>72</td>\n",
       "      <td>10550</td>\n",
       "      <td>7550</td>\n",
       "    </tr>\n",
       "    <tr>\n",
       "      <th>Delhi</th>\n",
       "      <td>11234</td>\n",
       "      <td>12248</td>\n",
       "      <td>16790</td>\n",
       "      <td>357</td>\n",
       "      <td>13679</td>\n",
       "      <td>7035</td>\n",
       "    </tr>\n",
       "    <tr>\n",
       "      <th>Hyderabad</th>\n",
       "      <td>7221</td>\n",
       "      <td>8524</td>\n",
       "      <td>5991</td>\n",
       "      <td>38</td>\n",
       "      <td>9923</td>\n",
       "      <td>9109</td>\n",
       "    </tr>\n",
       "    <tr>\n",
       "      <th>Kolkata</th>\n",
       "      <td>7863</td>\n",
       "      <td>8133</td>\n",
       "      <td>9594</td>\n",
       "      <td>114</td>\n",
       "      <td>12065</td>\n",
       "      <td>8578</td>\n",
       "    </tr>\n",
       "    <tr>\n",
       "      <th>Mumbai</th>\n",
       "      <td>10486</td>\n",
       "      <td>14955</td>\n",
       "      <td>13082</td>\n",
       "      <td>268</td>\n",
       "      <td>12606</td>\n",
       "      <td>9499</td>\n",
       "    </tr>\n",
       "  </tbody>\n",
       "</table>\n",
       "</div>"
      ],
      "text/plain": [
       "departure_time  Afternoon  Early_Morning  Evening  Late_Night  Morning  Night\n",
       "source_city                                                                  \n",
       "Bangalore            5183          13611    14243         457    12323   6244\n",
       "Chennai              5807           9319     5402          72    10550   7550\n",
       "Delhi               11234          12248    16790         357    13679   7035\n",
       "Hyderabad            7221           8524     5991          38     9923   9109\n",
       "Kolkata              7863           8133     9594         114    12065   8578\n",
       "Mumbai              10486          14955    13082         268    12606   9499"
      ]
     },
     "execution_count": 34,
     "metadata": {},
     "output_type": "execute_result"
    }
   ],
   "source": [
    "# 카이제곱 검정\n",
    "pd.crosstab(flightData['source_city'], flightData['departure_time'])"
   ]
  },
  {
   "cell_type": "markdown",
   "id": "da8e5e53",
   "metadata": {},
   "source": [
    "### 231225"
   ]
  },
  {
   "cell_type": "code",
   "execution_count": 18,
   "id": "72b754a7",
   "metadata": {},
   "outputs": [],
   "source": [
    "flightData = pd.read_csv('../AICE_Data/Clean_Dataset.csv', encoding='cp949')"
   ]
  },
  {
   "cell_type": "code",
   "execution_count": 17,
   "id": "3aeed82a",
   "metadata": {},
   "outputs": [
    {
     "data": {
      "image/png": "[encoded data removed]",
      "text/plain": [
       "<Figure size 432x288 with 1 Axes>"
      ]
     },
     "metadata": {
      "needs_background": "light"
     },
     "output_type": "display_data"
    }
   ],
   "source": [
    "# line plot\n",
    "\n",
    "airlineData = flightData.groupby(['airline']).mean()\n",
    "airlineData.head()\n",
    "\n",
    "plt.figure() # 시각화 영역 지정\n",
    "plt.plot(daysLeftData['price'])\n",
    "plt.xlabel(\"Days Left\")\n",
    "plt.ylabel(\"Price\")\n",
    "plt.show()"
   ]
  },
  {
   "cell_type": "code",
   "execution_count": 19,
   "id": "7ef01049",
   "metadata": {},
   "outputs": [
    {
     "data": {
      "image/png": "[encoded data removed]",
      "text/plain": [
       "<Figure size 432x288 with 1 Axes>"
      ]
     },
     "metadata": {
      "needs_background": "light"
     },
     "output_type": "display_data"
    }
   ],
   "source": [
    "# bar plot\n",
    "\n",
    "airlineData = flightData.groupby(['airline']).mean()\n",
    "airlineData.head()\n",
    "\n",
    "label = airlineData.index\n",
    "plt.figure()\n",
    "\n",
    "plt.bar(label, airlineData['price'])\n",
    "plt.xlabel(\"AirLine\")\n",
    "plt.ylabel(\"Price\")\n",
    "plt.show()"
   ]
  },
  {
   "cell_type": "code",
   "execution_count": 16,
   "id": "a12fd5f0",
   "metadata": {},
   "outputs": [
    {
     "data": {
      "image/png": "[encoded data removed]",
      "text/plain": [
       "<Figure size 720x1152 with 1 Axes>"
      ]
     },
     "metadata": {},
     "output_type": "display_data"
    }
   ],
   "source": [
    "# pie plot\n",
    "\n",
    "departureData = flightData['departure_time'].value_counts()\n",
    "\n",
    "plt.figure(figsize=(10,16))\n",
    "\n",
    "plt.pie(departureData, labels=departureData.index, autopct='%.1f%%')\n",
    "plt.show()"
   ]
  },
  {
   "cell_type": "code",
   "execution_count": 20,
   "id": "2b255775",
   "metadata": {},
   "outputs": [
    {
     "data": {
      "image/png": "[encoded data removed]",
      "text/plain": [
       "<Figure size 432x288 with 1 Axes>"
      ]
     },
     "metadata": {
      "needs_background": "light"
     },
     "output_type": "display_data"
    }
   ],
   "source": [
    "# Histogram\n",
    "\n",
    "plt.figure()\n",
    "\n",
    "plt.hist(flightData['duration'], bins=10)\n",
    "\n",
    "plt.hist(flightData['duration'], bins=20)\n",
    "plt.xlabel('Duration')\n",
    "plt.ylabel('Flights')\n",
    "\n",
    "plt.legend((\"Bin 10\", \"Bin 20\"))\n",
    "plt.show()"
   ]
  },
  {
   "cell_type": "code",
   "execution_count": 21,
   "id": "f30902df",
   "metadata": {},
   "outputs": [
    {
     "data": {
      "image/png": "[encoded data removed]",
      "text/plain": [
       "<Figure size 432x288 with 1 Axes>"
      ]
     },
     "metadata": {
      "needs_background": "light"
     },
     "output_type": "display_data"
    }
   ],
   "source": [
    "# bot plot\n",
    "\n",
    "plt.figure()\n",
    "\n",
    "plt.boxplot(list(flightData['price']))\n",
    "plt.ylabel('Price')\n",
    "plt.show()"
   ]
  },
  {
   "cell_type": "code",
   "execution_count": 22,
   "id": "4b418b73",
   "metadata": {},
   "outputs": [
    {
     "data": {
      "text/plain": [
       "<AxesSubplot:title={'center':'price'}, xlabel='departure_time'>"
      ]
     },
     "execution_count": 22,
     "metadata": {},
     "output_type": "execute_result"
    },
    {
     "data": {
      "image/png": "[encoded data removed]",
      "text/plain": [
       "<Figure size 720x576 with 1 Axes>"
      ]
     },
     "metadata": {
      "needs_background": "light"
     },
     "output_type": "display_data"
    }
   ],
   "source": [
    "flightData.boxplot(by=\"departure_time\", column=\"price\", figsize=(10, 8))"
   ]
  },
  {
   "cell_type": "code",
   "execution_count": 23,
   "id": "9ff53806",
   "metadata": {},
   "outputs": [
    {
     "data": {
      "image/png": "[encoded data removed]",
      "text/plain": [
       "<Figure size 1152x576 with 1 Axes>"
      ]
     },
     "metadata": {
      "needs_background": "light"
     },
     "output_type": "display_data"
    }
   ],
   "source": [
    "# 산점도\n",
    "\n",
    "plt.figure(figsize=(16,8))\n",
    "\n",
    "# price와 dration간의 산점도 그리기\n",
    "plt.scatter(y=flightData[\"price\"], x=flightData[\"duration\"])\n",
    "plt.xlabel(\"Duration\")\n",
    "plt.ylabel(\"Price\")\n",
    "plt.show()"
   ]
  },
  {
   "cell_type": "code",
   "execution_count": 26,
   "id": "565c1492",
   "metadata": {},
   "outputs": [
    {
     "data": {
      "image/png": "[encoded data removed]",
      "text/plain": [
       "<Figure size 432x288 with 2 Axes>"
      ]
     },
     "metadata": {
      "needs_background": "light"
     },
     "output_type": "display_data"
    }
   ],
   "source": [
    "# 상관계수 데이터 만들기\n",
    "df_eco=flightData[(flightData['class']=='Economy')]\n",
    "\n",
    "heat=df_eco.corr()\n",
    "\n",
    "# 상관계수로 heatmap그리기\n",
    "plt.pcolor(heat)\n",
    "\n",
    "# x축 항목 정보 표기하기\n",
    "plt.xticks(np.arange(0.5, len(heat.columns), 1), heat.columns)\n",
    "\n",
    "# y축 항목 정보 표기하기\n",
    "plt.yticks(np.arange(0.5, len(heat.index), 1), heat.index)\n",
    "\n",
    "# 히트맵 확인을 위한 컬러바 표기하기\n",
    "plt.colorbar()\n",
    "plt.show()"
   ]
  },
  {
   "cell_type": "code",
   "execution_count": 28,
   "id": "39362256",
   "metadata": {},
   "outputs": [
    {
     "data": {
      "text/plain": [
       "<seaborn.axisgrid.FacetGrid at 0x25c91827910>"
      ]
     },
     "execution_count": 28,
     "metadata": {},
     "output_type": "execute_result"
    },
    {
     "data": {
      "image/png": "[encoded data removed]",
      "text/plain": [
       "<Figure size 720x360 with 2 Axes>"
      ]
     },
     "metadata": {
      "needs_background": "light"
     },
     "output_type": "display_data"
    }
   ],
   "source": [
    "# 범주형 산점도\n",
    "\n",
    "# airline별 price를 class로 구분하여 시각화 하기\n",
    "sns.catplot(y=\"airline\", x=\"price\", col='class', data=flightData)"
   ]
  },
  {
   "cell_type": "code",
   "execution_count": 29,
   "id": "c10bd862",
   "metadata": {},
   "outputs": [
    {
     "data": {
      "text/plain": [
       "<seaborn.axisgrid.FacetGrid at 0x25c98ba66d0>"
      ]
     },
     "execution_count": 29,
     "metadata": {},
     "output_type": "execute_result"
    },
    {
     "data": {
      "image/png": "[encoded data removed]",
      "text/plain": [
       "<Figure size 360x360 with 1 Axes>"
      ]
     },
     "metadata": {
      "needs_background": "light"
     },
     "output_type": "display_data"
    }
   ],
   "source": [
    "# 선형회귀 모델 그래프\n",
    "\n",
    "# duration과 price의 회귀선을 빨간색으로 표시해서 시각화 하기\n",
    "sns.lmplot(x='duration', y='price', data=df_eco, line_kws={'color': 'red'})"
   ]
  },
  {
   "cell_type": "code",
   "execution_count": 31,
   "id": "99ef2109",
   "metadata": {},
   "outputs": [
    {
     "data": {
      "text/plain": [
       "<AxesSubplot:xlabel='airline', ylabel='count'>"
      ]
     },
     "execution_count": 31,
     "metadata": {},
     "output_type": "execute_result"
    },
    {
     "data": {
      "image/png": "[encoded data removed]",
      "text/plain": [
       "<Figure size 432x288 with 1 Axes>"
      ]
     },
     "metadata": {
      "needs_background": "light"
     },
     "output_type": "display_data"
    }
   ],
   "source": [
    "# 빈도 그래프\n",
    "\n",
    "# hue 파라미터는 손쉽게 범례를 하나 추가할 수 있게 해준다.\n",
    "\n",
    "# 항공권 데이터의 빈도를 airline으로 구분하여 class별로 시각화 하기\n",
    "sns.countplot(x=\"airline\", hue=\"class\", data=flightData)"
   ]
  },
  {
   "cell_type": "code",
   "execution_count": 33,
   "id": "d0e893b2",
   "metadata": {},
   "outputs": [
    {
     "data": {
      "text/plain": [
       "<seaborn.axisgrid.JointGrid at 0x25c9649fac0>"
      ]
     },
     "execution_count": 33,
     "metadata": {},
     "output_type": "execute_result"
    },
    {
     "data": {
      "image/png": "[encoded data removed]",
      "text/plain": [
       "<Figure size 432x432 with 3 Axes>"
      ]
     },
     "metadata": {
      "needs_background": "light"
     },
     "output_type": "display_data"
    }
   ],
   "source": [
    "# 조인트 그래프\n",
    "\n",
    "# price와 duration간의 관계를 joint plot으로 시각화 하기\n",
    "sns.jointplot(y=\"price\", x=\"duration\", data=df_eco)"
   ]
  },
  {
   "cell_type": "code",
   "execution_count": 34,
   "id": "0b958750",
   "metadata": {},
   "outputs": [
    {
     "data": {
      "text/plain": [
       "<AxesSubplot:>"
      ]
     },
     "execution_count": 34,
     "metadata": {},
     "output_type": "execute_result"
    },
    {
     "data": {
      "image/png": "[encoded data removed]",
      "text/plain": [
       "<Figure size 432x288 with 2 Axes>"
      ]
     },
     "metadata": {
      "needs_background": "light"
     },
     "output_type": "display_data"
    }
   ],
   "source": [
    "# 상관계수 히트맵\n",
    "\n",
    "sns.heatmap(df_eco.corr())"
   ]
  },
  {
   "cell_type": "markdown",
   "id": "3fb0d08c",
   "metadata": {},
   "source": [
    "### 231231"
   ]
  },
  {
   "cell_type": "code",
   "execution_count": 4,
   "id": "cbe2dba3",
   "metadata": {},
   "outputs": [
    {
     "data": {
      "text/html": [
       "<div>\n",
       "<style scoped>\n",
       "    .dataframe tbody tr th:only-of-type {\n",
       "        vertical-align: middle;\n",
       "    }\n",
       "\n",
       "    .dataframe tbody tr th {\n",
       "        vertical-align: top;\n",
       "    }\n",
       "\n",
       "    .dataframe thead th {\n",
       "        text-align: right;\n",
       "    }\n",
       "</style>\n",
       "<table border=\"1\" class=\"dataframe\">\n",
       "  <thead>\n",
       "    <tr style=\"text-align: right;\">\n",
       "      <th></th>\n",
       "      <th>airline</th>\n",
       "      <th>flight</th>\n",
       "      <th>source_city</th>\n",
       "      <th>departure_time</th>\n",
       "      <th>stops</th>\n",
       "      <th>arrival_time</th>\n",
       "      <th>destination_city</th>\n",
       "      <th>class</th>\n",
       "      <th>duration</th>\n",
       "      <th>days_left</th>\n",
       "      <th>price</th>\n",
       "    </tr>\n",
       "  </thead>\n",
       "  <tbody>\n",
       "    <tr>\n",
       "      <th>0</th>\n",
       "      <td>SpiceJet</td>\n",
       "      <td>SG-8709</td>\n",
       "      <td>Delhi</td>\n",
       "      <td>Evening</td>\n",
       "      <td>zero</td>\n",
       "      <td>Night</td>\n",
       "      <td>Mumbai</td>\n",
       "      <td>Economy</td>\n",
       "      <td>2.17</td>\n",
       "      <td>1</td>\n",
       "      <td>5953</td>\n",
       "    </tr>\n",
       "    <tr>\n",
       "      <th>1</th>\n",
       "      <td>SpiceJet</td>\n",
       "      <td>SG-8157</td>\n",
       "      <td>Delhi</td>\n",
       "      <td>Early_Morning</td>\n",
       "      <td>zero</td>\n",
       "      <td>Morning</td>\n",
       "      <td>Mumbai</td>\n",
       "      <td>Economy</td>\n",
       "      <td>2.33</td>\n",
       "      <td>1</td>\n",
       "      <td>5953</td>\n",
       "    </tr>\n",
       "    <tr>\n",
       "      <th>2</th>\n",
       "      <td>AirAsia</td>\n",
       "      <td>I5-764</td>\n",
       "      <td>Delhi</td>\n",
       "      <td>Early_Morning</td>\n",
       "      <td>zero</td>\n",
       "      <td>Early_Morning</td>\n",
       "      <td>Mumbai</td>\n",
       "      <td>Economy</td>\n",
       "      <td>2.17</td>\n",
       "      <td>1</td>\n",
       "      <td>5956</td>\n",
       "    </tr>\n",
       "    <tr>\n",
       "      <th>3</th>\n",
       "      <td>Vistara</td>\n",
       "      <td>UK-995</td>\n",
       "      <td>Delhi</td>\n",
       "      <td>Morning</td>\n",
       "      <td>zero</td>\n",
       "      <td>Afternoon</td>\n",
       "      <td>Mumbai</td>\n",
       "      <td>Economy</td>\n",
       "      <td>2.25</td>\n",
       "      <td>1</td>\n",
       "      <td>5955</td>\n",
       "    </tr>\n",
       "    <tr>\n",
       "      <th>4</th>\n",
       "      <td>Vistara</td>\n",
       "      <td>UK-963</td>\n",
       "      <td>Delhi</td>\n",
       "      <td>Morning</td>\n",
       "      <td>zero</td>\n",
       "      <td>Morning</td>\n",
       "      <td>Mumbai</td>\n",
       "      <td>Economy</td>\n",
       "      <td>2.33</td>\n",
       "      <td>1</td>\n",
       "      <td>5955</td>\n",
       "    </tr>\n",
       "    <tr>\n",
       "      <th>...</th>\n",
       "      <td>...</td>\n",
       "      <td>...</td>\n",
       "      <td>...</td>\n",
       "      <td>...</td>\n",
       "      <td>...</td>\n",
       "      <td>...</td>\n",
       "      <td>...</td>\n",
       "      <td>...</td>\n",
       "      <td>...</td>\n",
       "      <td>...</td>\n",
       "      <td>...</td>\n",
       "    </tr>\n",
       "    <tr>\n",
       "      <th>300148</th>\n",
       "      <td>Vistara</td>\n",
       "      <td>UK-822</td>\n",
       "      <td>Chennai</td>\n",
       "      <td>Morning</td>\n",
       "      <td>one</td>\n",
       "      <td>Evening</td>\n",
       "      <td>Hyderabad</td>\n",
       "      <td>Business</td>\n",
       "      <td>10.08</td>\n",
       "      <td>49</td>\n",
       "      <td>69265</td>\n",
       "    </tr>\n",
       "    <tr>\n",
       "      <th>300149</th>\n",
       "      <td>Vistara</td>\n",
       "      <td>UK-826</td>\n",
       "      <td>Chennai</td>\n",
       "      <td>Afternoon</td>\n",
       "      <td>one</td>\n",
       "      <td>Night</td>\n",
       "      <td>Hyderabad</td>\n",
       "      <td>Business</td>\n",
       "      <td>10.42</td>\n",
       "      <td>49</td>\n",
       "      <td>77105</td>\n",
       "    </tr>\n",
       "    <tr>\n",
       "      <th>300150</th>\n",
       "      <td>Vistara</td>\n",
       "      <td>UK-832</td>\n",
       "      <td>Chennai</td>\n",
       "      <td>Early_Morning</td>\n",
       "      <td>one</td>\n",
       "      <td>Night</td>\n",
       "      <td>Hyderabad</td>\n",
       "      <td>Business</td>\n",
       "      <td>13.83</td>\n",
       "      <td>49</td>\n",
       "      <td>79099</td>\n",
       "    </tr>\n",
       "    <tr>\n",
       "      <th>300151</th>\n",
       "      <td>Vistara</td>\n",
       "      <td>UK-828</td>\n",
       "      <td>Chennai</td>\n",
       "      <td>Early_Morning</td>\n",
       "      <td>one</td>\n",
       "      <td>Evening</td>\n",
       "      <td>Hyderabad</td>\n",
       "      <td>Business</td>\n",
       "      <td>10.00</td>\n",
       "      <td>49</td>\n",
       "      <td>81585</td>\n",
       "    </tr>\n",
       "    <tr>\n",
       "      <th>300152</th>\n",
       "      <td>Vistara</td>\n",
       "      <td>UK-822</td>\n",
       "      <td>Chennai</td>\n",
       "      <td>Morning</td>\n",
       "      <td>one</td>\n",
       "      <td>Evening</td>\n",
       "      <td>Hyderabad</td>\n",
       "      <td>Business</td>\n",
       "      <td>10.08</td>\n",
       "      <td>49</td>\n",
       "      <td>81585</td>\n",
       "    </tr>\n",
       "  </tbody>\n",
       "</table>\n",
       "<p>300153 rows × 11 columns</p>\n",
       "</div>"
      ],
      "text/plain": [
       "         airline   flight source_city departure_time stops   arrival_time  \\\n",
       "0       SpiceJet  SG-8709       Delhi        Evening  zero          Night   \n",
       "1       SpiceJet  SG-8157       Delhi  Early_Morning  zero        Morning   \n",
       "2        AirAsia   I5-764       Delhi  Early_Morning  zero  Early_Morning   \n",
       "3        Vistara   UK-995       Delhi        Morning  zero      Afternoon   \n",
       "4        Vistara   UK-963       Delhi        Morning  zero        Morning   \n",
       "...          ...      ...         ...            ...   ...            ...   \n",
       "300148   Vistara   UK-822     Chennai        Morning   one        Evening   \n",
       "300149   Vistara   UK-826     Chennai      Afternoon   one          Night   \n",
       "300150   Vistara   UK-832     Chennai  Early_Morning   one          Night   \n",
       "300151   Vistara   UK-828     Chennai  Early_Morning   one        Evening   \n",
       "300152   Vistara   UK-822     Chennai        Morning   one        Evening   \n",
       "\n",
       "       destination_city     class  duration  days_left  price  \n",
       "0                Mumbai   Economy      2.17          1   5953  \n",
       "1                Mumbai   Economy      2.33          1   5953  \n",
       "2                Mumbai   Economy      2.17          1   5956  \n",
       "3                Mumbai   Economy      2.25          1   5955  \n",
       "4                Mumbai   Economy      2.33          1   5955  \n",
       "...                 ...       ...       ...        ...    ...  \n",
       "300148        Hyderabad  Business     10.08         49  69265  \n",
       "300149        Hyderabad  Business     10.42         49  77105  \n",
       "300150        Hyderabad  Business     13.83         49  79099  \n",
       "300151        Hyderabad  Business     10.00         49  81585  \n",
       "300152        Hyderabad  Business     10.08         49  81585  \n",
       "\n",
       "[300153 rows x 11 columns]"
      ]
     },
     "execution_count": 4,
     "metadata": {},
     "output_type": "execute_result"
    }
   ],
   "source": [
    "df=pd.read_csv(\"../AICE_Data/Clean_Dataset.csv\")\n",
    "\n",
    "df.drop([df.columns[0]], axis=1, inplace=True)\n",
    "\n",
    "df"
   ]
  },
  {
   "cell_type": "code",
   "execution_count": 6,
   "id": "35921eea",
   "metadata": {},
   "outputs": [],
   "source": [
    "random.seed(2023)\n",
    "np.random.seed(2023)\n",
    "\n",
    "# 랜덤한 위치에 결측치를 5000개를 포함한 데이터 df_na 생성하기(5,000개 결측치 생성)\n",
    "df_na=df.copy()\n",
    "for i in range(0,5000) :\n",
    "    df_na.iloc[random.randint(0,300152), random.randint(0,10)]=np.nan\n",
    "\n",
    "# 결측치 처리여부 확인을 위한 1번, 3번 인덱스 전체 결측치 처리하기(2개 결측치 생성)\n",
    "df_na.iloc[1]=np.nan\n",
    "df_na.iloc[3]=np.nan"
   ]
  },
  {
   "cell_type": "code",
   "execution_count": 7,
   "id": "4743d137",
   "metadata": {},
   "outputs": [
    {
     "name": "stdout",
     "output_type": "stream",
     "text": [
      "<class 'pandas.core.frame.DataFrame'>\n",
      "RangeIndex: 300153 entries, 0 to 300152\n",
      "Data columns (total 11 columns):\n",
      " #   Column            Non-Null Count   Dtype  \n",
      "---  ------            --------------   -----  \n",
      " 0   airline           299685 non-null  object \n",
      " 1   flight            299689 non-null  object \n",
      " 2   source_city       299681 non-null  object \n",
      " 3   departure_time    299723 non-null  object \n",
      " 4   stops             299666 non-null  object \n",
      " 5   arrival_time      299698 non-null  object \n",
      " 6   destination_city  299670 non-null  object \n",
      " 7   class             299715 non-null  object \n",
      " 8   duration          299703 non-null  float64\n",
      " 9   days_left         299723 non-null  float64\n",
      " 10  price             299714 non-null  float64\n",
      "dtypes: float64(3), object(8)\n",
      "memory usage: 25.2+ MB\n"
     ]
    }
   ],
   "source": [
    "df_na.info()"
   ]
  },
  {
   "cell_type": "code",
   "execution_count": 8,
   "id": "c1b2d056",
   "metadata": {},
   "outputs": [
    {
     "data": {
      "text/plain": [
       "airline             468\n",
       "flight              464\n",
       "source_city         472\n",
       "departure_time      430\n",
       "stops               487\n",
       "arrival_time        455\n",
       "destination_city    483\n",
       "class               438\n",
       "duration            450\n",
       "days_left           430\n",
       "price               439\n",
       "dtype: int64"
      ]
     },
     "execution_count": 8,
     "metadata": {},
     "output_type": "execute_result"
    }
   ],
   "source": [
    "df_na.isnull().sum(axis=0)"
   ]
  },
  {
   "cell_type": "code",
   "execution_count": 9,
   "id": "4042e4b6",
   "metadata": {},
   "outputs": [],
   "source": [
    "df_na_backup = df_na"
   ]
  },
  {
   "cell_type": "code",
   "execution_count": 10,
   "id": "251e862b",
   "metadata": {},
   "outputs": [
    {
     "data": {
      "text/plain": [
       "airline             0\n",
       "flight              0\n",
       "source_city         0\n",
       "departure_time      0\n",
       "stops               0\n",
       "arrival_time        0\n",
       "destination_city    0\n",
       "class               0\n",
       "duration            0\n",
       "days_left           0\n",
       "price               0\n",
       "dtype: int64"
      ]
     },
     "execution_count": 10,
     "metadata": {},
     "output_type": "execute_result"
    }
   ],
   "source": [
    "# null인 값 제거\n",
    "df_na=df_na.dropna()\n",
    "df_na.isnull().sum(axis=0)"
   ]
  },
  {
   "cell_type": "code",
   "execution_count": 13,
   "id": "0e639463",
   "metadata": {},
   "outputs": [],
   "source": [
    "df_na = df_na_backup.copy()\n",
    "\n",
    "df_na = df_na.dropna(how='all')\n",
    "df_na.info()"
   ]
  },
  {
   "cell_type": "code",
   "execution_count": 16,
   "id": "ee9ab1b9",
   "metadata": {},
   "outputs": [
    {
     "name": "stdout",
     "output_type": "stream",
     "text": [
      "<class 'pandas.core.frame.DataFrame'>\n",
      "RangeIndex: 300153 entries, 0 to 300152\n",
      "Data columns (total 9 columns):\n",
      " #   Column            Non-Null Count   Dtype  \n",
      "---  ------            --------------   -----  \n",
      " 0   airline           299685 non-null  object \n",
      " 1   source_city       299681 non-null  object \n",
      " 2   departure_time    299723 non-null  object \n",
      " 3   arrival_time      299698 non-null  object \n",
      " 4   destination_city  299670 non-null  object \n",
      " 5   class             299715 non-null  object \n",
      " 6   duration          299703 non-null  float64\n",
      " 7   days_left         299723 non-null  float64\n",
      " 8   price             299714 non-null  float64\n",
      "dtypes: float64(3), object(6)\n",
      "memory usage: 20.6+ MB\n"
     ]
    }
   ],
   "source": [
    "# null 포함한 특정 컬럼 제거\n",
    "\n",
    "df_na = df_na_backup.copy()\n",
    "\n",
    "df_na = df_na.drop(['stops', 'flight'], axis=1)\n",
    "df_na.info()"
   ]
  },
  {
   "cell_type": "code",
   "execution_count": 17,
   "id": "615f2492",
   "metadata": {},
   "outputs": [
    {
     "name": "stderr",
     "output_type": "stream",
     "text": [
      "C:\\Users\\82108\\AppData\\Local\\Temp\\ipykernel_10824\\631146776.py:4: FutureWarning: Dropping of nuisance columns in DataFrame reductions (with 'numeric_only=None') is deprecated; in a future version this will raise TypeError.  Select only valid columns before calling the reduction.\n",
      "  df_na = df_na.fillna(df_na.mean())\n"
     ]
    },
    {
     "name": "stdout",
     "output_type": "stream",
     "text": [
      "<class 'pandas.core.frame.DataFrame'>\n",
      "RangeIndex: 300153 entries, 0 to 300152\n",
      "Data columns (total 11 columns):\n",
      " #   Column            Non-Null Count   Dtype  \n",
      "---  ------            --------------   -----  \n",
      " 0   airline           299685 non-null  object \n",
      " 1   flight            299689 non-null  object \n",
      " 2   source_city       299681 non-null  object \n",
      " 3   departure_time    299723 non-null  object \n",
      " 4   stops             299666 non-null  object \n",
      " 5   arrival_time      299698 non-null  object \n",
      " 6   destination_city  299670 non-null  object \n",
      " 7   class             299715 non-null  object \n",
      " 8   duration          300153 non-null  float64\n",
      " 9   days_left         300153 non-null  float64\n",
      " 10  price             300153 non-null  float64\n",
      "dtypes: float64(3), object(8)\n",
      "memory usage: 25.2+ MB\n"
     ]
    }
   ],
   "source": [
    "# 결측치 대체하기\n",
    "\n",
    "df_na = df_na_backup.copy()\n",
    "df_na = df_na.fillna(df_na.mean())\n",
    "df_na.info()"
   ]
  },
  {
   "cell_type": "code",
   "execution_count": 19,
   "id": "18f592cd",
   "metadata": {},
   "outputs": [
    {
     "name": "stdout",
     "output_type": "stream",
     "text": [
      "<class 'pandas.core.frame.DataFrame'>\n",
      "RangeIndex: 300153 entries, 0 to 300152\n",
      "Data columns (total 11 columns):\n",
      " #   Column            Non-Null Count   Dtype  \n",
      "---  ------            --------------   -----  \n",
      " 0   airline           300153 non-null  object \n",
      " 1   flight            300153 non-null  object \n",
      " 2   source_city       300153 non-null  object \n",
      " 3   departure_time    300153 non-null  object \n",
      " 4   stops             300153 non-null  object \n",
      " 5   arrival_time      300153 non-null  object \n",
      " 6   destination_city  300153 non-null  object \n",
      " 7   class             300153 non-null  object \n",
      " 8   duration          300153 non-null  float64\n",
      " 9   days_left         300153 non-null  float64\n",
      " 10  price             300153 non-null  float64\n",
      "dtypes: float64(3), object(8)\n",
      "memory usage: 25.2+ MB\n"
     ]
    }
   ],
   "source": [
    "# 이전/이후 인덱스를 사용해 결측치 대체\n",
    "\n",
    "df_na = df_na_backup.copy()\n",
    "df_na = df_na.fillna(method='ffill')\n",
    "df_na.info()"
   ]
  },
  {
   "cell_type": "code",
   "execution_count": null,
   "id": "3ebd6ca0",
   "metadata": {},
   "outputs": [],
   "source": [
    "\"\"\"\n",
    "이상치 감지 방법\n",
    "1. Z-score\n",
    "2. IQR\n",
    "\n",
    "삭제\n",
    "df.drop(특정 컬럼이나 df 조건)\n",
    "\n",
    "구간화 = \"연속형 데이터를 특정 구간으로 나누어 범주형 또는 순위형으로 변환하는 방법\"\n",
    "\"\"\""
   ]
  },
  {
   "cell_type": "code",
   "execution_count": null,
   "id": "bca12b67",
   "metadata": {},
   "outputs": [],
   "source": [
    "\"\"\"\n",
    "범주형 인코딩 = \"컴퓨터가 데이터를 이해할 수 있도록 범주형(Categorical) 데이터를 수치형 데이터로 변경하는 과정\"\n",
    "\"\"\""
   ]
  },
  {
   "cell_type": "code",
   "execution_count": 21,
   "id": "3572b25e",
   "metadata": {},
   "outputs": [
    {
     "data": {
      "text/html": [
       "<div>\n",
       "<style scoped>\n",
       "    .dataframe tbody tr th:only-of-type {\n",
       "        vertical-align: middle;\n",
       "    }\n",
       "\n",
       "    .dataframe tbody tr th {\n",
       "        vertical-align: top;\n",
       "    }\n",
       "\n",
       "    .dataframe thead th {\n",
       "        text-align: right;\n",
       "    }\n",
       "</style>\n",
       "<table border=\"1\" class=\"dataframe\">\n",
       "  <thead>\n",
       "    <tr style=\"text-align: right;\">\n",
       "      <th></th>\n",
       "      <th>Unnamed: 0</th>\n",
       "      <th>airline</th>\n",
       "      <th>flight</th>\n",
       "      <th>source_city</th>\n",
       "      <th>departure_time</th>\n",
       "      <th>stops</th>\n",
       "      <th>arrival_time</th>\n",
       "      <th>destination_city</th>\n",
       "      <th>class</th>\n",
       "      <th>duration</th>\n",
       "      <th>days_left</th>\n",
       "      <th>price</th>\n",
       "      <th>airline_Label_Encoder</th>\n",
       "    </tr>\n",
       "  </thead>\n",
       "  <tbody>\n",
       "    <tr>\n",
       "      <th>0</th>\n",
       "      <td>0</td>\n",
       "      <td>SpiceJet</td>\n",
       "      <td>SG-8709</td>\n",
       "      <td>Delhi</td>\n",
       "      <td>Evening</td>\n",
       "      <td>zero</td>\n",
       "      <td>Night</td>\n",
       "      <td>Mumbai</td>\n",
       "      <td>Economy</td>\n",
       "      <td>2.17</td>\n",
       "      <td>1</td>\n",
       "      <td>5953</td>\n",
       "      <td>4</td>\n",
       "    </tr>\n",
       "    <tr>\n",
       "      <th>1</th>\n",
       "      <td>1</td>\n",
       "      <td>SpiceJet</td>\n",
       "      <td>SG-8157</td>\n",
       "      <td>Delhi</td>\n",
       "      <td>Early_Morning</td>\n",
       "      <td>zero</td>\n",
       "      <td>Morning</td>\n",
       "      <td>Mumbai</td>\n",
       "      <td>Economy</td>\n",
       "      <td>2.33</td>\n",
       "      <td>1</td>\n",
       "      <td>5953</td>\n",
       "      <td>4</td>\n",
       "    </tr>\n",
       "    <tr>\n",
       "      <th>2</th>\n",
       "      <td>2</td>\n",
       "      <td>AirAsia</td>\n",
       "      <td>I5-764</td>\n",
       "      <td>Delhi</td>\n",
       "      <td>Early_Morning</td>\n",
       "      <td>zero</td>\n",
       "      <td>Early_Morning</td>\n",
       "      <td>Mumbai</td>\n",
       "      <td>Economy</td>\n",
       "      <td>2.17</td>\n",
       "      <td>1</td>\n",
       "      <td>5956</td>\n",
       "      <td>0</td>\n",
       "    </tr>\n",
       "    <tr>\n",
       "      <th>3</th>\n",
       "      <td>3</td>\n",
       "      <td>Vistara</td>\n",
       "      <td>UK-995</td>\n",
       "      <td>Delhi</td>\n",
       "      <td>Morning</td>\n",
       "      <td>zero</td>\n",
       "      <td>Afternoon</td>\n",
       "      <td>Mumbai</td>\n",
       "      <td>Economy</td>\n",
       "      <td>2.25</td>\n",
       "      <td>1</td>\n",
       "      <td>5955</td>\n",
       "      <td>5</td>\n",
       "    </tr>\n",
       "    <tr>\n",
       "      <th>4</th>\n",
       "      <td>4</td>\n",
       "      <td>Vistara</td>\n",
       "      <td>UK-963</td>\n",
       "      <td>Delhi</td>\n",
       "      <td>Morning</td>\n",
       "      <td>zero</td>\n",
       "      <td>Morning</td>\n",
       "      <td>Mumbai</td>\n",
       "      <td>Economy</td>\n",
       "      <td>2.33</td>\n",
       "      <td>1</td>\n",
       "      <td>5955</td>\n",
       "      <td>5</td>\n",
       "    </tr>\n",
       "  </tbody>\n",
       "</table>\n",
       "</div>"
      ],
      "text/plain": [
       "   Unnamed: 0   airline   flight source_city departure_time stops  \\\n",
       "0           0  SpiceJet  SG-8709       Delhi        Evening  zero   \n",
       "1           1  SpiceJet  SG-8157       Delhi  Early_Morning  zero   \n",
       "2           2   AirAsia   I5-764       Delhi  Early_Morning  zero   \n",
       "3           3   Vistara   UK-995       Delhi        Morning  zero   \n",
       "4           4   Vistara   UK-963       Delhi        Morning  zero   \n",
       "\n",
       "    arrival_time destination_city    class  duration  days_left  price  \\\n",
       "0          Night           Mumbai  Economy      2.17          1   5953   \n",
       "1        Morning           Mumbai  Economy      2.33          1   5953   \n",
       "2  Early_Morning           Mumbai  Economy      2.17          1   5956   \n",
       "3      Afternoon           Mumbai  Economy      2.25          1   5955   \n",
       "4        Morning           Mumbai  Economy      2.33          1   5955   \n",
       "\n",
       "   airline_Label_Encoder  \n",
       "0                      4  \n",
       "1                      4  \n",
       "2                      0  \n",
       "3                      5  \n",
       "4                      5  "
      ]
     },
     "execution_count": 21,
     "metadata": {},
     "output_type": "execute_result"
    }
   ],
   "source": [
    "# 라벨 인코딩\n",
    "\n",
    "df=pd.read_csv(\"../AICE_Data/Clean_Dataset.csv\")\n",
    "le = LabelEncoder()\n",
    "df[\"airline_Label_Encoder\"] = le.fit_transform(df['airline'])\n",
    "df.head()"
   ]
  },
  {
   "cell_type": "code",
   "execution_count": 23,
   "id": "25839c8a",
   "metadata": {},
   "outputs": [
    {
     "name": "stdout",
     "output_type": "stream",
     "text": [
      "Vistara      127859\n",
      "Air_India     80892\n",
      "Indigo        43120\n",
      "GO_FIRST      23173\n",
      "AirAsia       16098\n",
      "SpiceJet       9011\n",
      "Name: airline, dtype: int64\n",
      "\n",
      "5    127859\n",
      "1     80892\n",
      "3     43120\n",
      "2     23173\n",
      "0     16098\n",
      "4      9011\n",
      "Name: airline_Label_Encoder, dtype: int64\n"
     ]
    }
   ],
   "source": [
    "print(df['airline'].value_counts())\n",
    "print()\n",
    "print(df['airline_Label_Encoder'].value_counts())"
   ]
  },
  {
   "cell_type": "code",
   "execution_count": null,
   "id": "de54e97e",
   "metadata": {},
   "outputs": [],
   "source": [
    "\"\"\"\n",
    "원핫 인코딩\n",
    "\n",
    "- get_dummies 메소를 사용하면 판다스에서 바로 원핫 인코딩 적용 가능\n",
    "- 사이킷런의 OneHotEncoder 모듈을 사용하면 바로 데이터프레임에 적용할 수 없어 컬럼 추가 필요\n",
    "\"\"\""
   ]
  },
  {
   "cell_type": "code",
   "execution_count": null,
   "id": "1013512c",
   "metadata": {},
   "outputs": [],
   "source": [
    "\"\"\"\n",
    "정규화 = 데이터의 범위를 0~1 사이로 변환하여 데이터 분포를 조정\n",
    "\n",
    "표준화 = 평균이 0이고 표준편차가 1인 표준 정규분포로 변환\n",
    "\"\"\""
   ]
  },
  {
   "cell_type": "code",
   "execution_count": null,
   "id": "a587e4cc",
   "metadata": {},
   "outputs": [],
   "source": []
  }
 ],
 "metadata": {
  "kernelspec": {
   "display_name": "Python 3 (ipykernel)",
   "language": "python",
   "name": "python3"
  },
  "language_info": {
   "codemirror_mode": {
    "name": "ipython",
    "version": 3
   },
   "file_extension": ".py",
   "mimetype": "text/x-python",
   "name": "python",
   "nbconvert_exporter": "python",
   "pygments_lexer": "ipython3",
   "version": "3.9.12"
  }
 },
 "nbformat": 4,
 "nbformat_minor": 5
}
