{
 "cells": [
  {
   "cell_type": "markdown",
   "id": "f2fb8646",
   "metadata": {},
   "source": [
    "### Common Module Import"
   ]
  },
  {
   "cell_type": "code",
   "execution_count": null,
   "id": "eb9f3051",
   "metadata": {},
   "outputs": [],
   "source": [
    "import numpy as np\n",
    "import pandas as pd"
   ]
  },
  {
   "cell_type": "markdown",
   "id": "d5e34bc3",
   "metadata": {},
   "source": [
    "### 23.12.16"
   ]
  },
  {
   "cell_type": "code",
   "execution_count": 3,
   "id": "8bd8737a",
   "metadata": {},
   "outputs": [
    {
     "name": "stdout",
     "output_type": "stream",
     "text": [
      "[1 2 3 4 5] \n",
      " ['한글' '영어' '일어' '불어']\n"
     ]
    }
   ],
   "source": [
    "a = np.array([1, 2, 3, 4, 5])\n",
    "b = np.array(['한글', '영어', '일어', '불어'])\n",
    "print(a, '\\n', b)"
   ]
  },
  {
   "cell_type": "code",
   "execution_count": 7,
   "id": "9f4af6dd",
   "metadata": {},
   "outputs": [
    {
     "name": "stdout",
     "output_type": "stream",
     "text": [
      "1    첫번째\n",
      "2    두번째\n",
      "3    세번째\n",
      "Name: 순서 배열, dtype: object\n"
     ]
    }
   ],
   "source": [
    "testSeries = pd.Series(data=['첫번째', '두번째', '세번째'], index=[1, 2, 3], name=\"순서 배열\")\n",
    "\n",
    "print(testSeries)"
   ]
  },
  {
   "cell_type": "code",
   "execution_count": 10,
   "id": "1e6b1b9f",
   "metadata": {},
   "outputs": [
    {
     "name": "stdout",
     "output_type": "stream",
     "text": [
      "   a  b  c\n",
      "0  1  4  7\n",
      "1  2  5  8\n",
      "2  3  6  9 \n",
      "\n",
      "   0  1  2\n",
      "a  1  2  3\n",
      "b  4  5  6\n",
      "c  7  8  9\n"
     ]
    }
   ],
   "source": [
    "testDF1 = pd.DataFrame({'a' : [1,2,3], 'b' : [4,5,6], 'c' : [7,8,9]}) # 이건 엑셀표현식이랑 유사한 듯\n",
    "print(testDF1, '\\n')\n",
    "\n",
    "testDF2 = pd.DataFrame([[1,2,3], [4,5,6], [7,8,9]], ['a', 'b', 'c'])\n",
    "print(testDF2)"
   ]
  },
  {
   "cell_type": "code",
   "execution_count": 31,
   "id": "47980373",
   "metadata": {},
   "outputs": [
    {
     "name": "stdout",
     "output_type": "stream",
     "text": [
      "head()\n",
      "    Unnamed: 0   airline   flight source_city departure_time stops  \\\n",
      "0           0  SpiceJet  SG-8709       Delhi        Evening  zero   \n",
      "1           1  SpiceJet  SG-8157       Delhi  Early_Morning  zero   \n",
      "2           2   AirAsia   I5-764       Delhi  Early_Morning  zero   \n",
      "3           3   Vistara   UK-995       Delhi        Morning  zero   \n",
      "4           4   Vistara   UK-963       Delhi        Morning  zero   \n",
      "\n",
      "    arrival_time destination_city    class  duration  days_left  price  \n",
      "0          Night           Mumbai  Economy      2.17          1   5953  \n",
      "1        Morning           Mumbai  Economy      2.33          1   5953  \n",
      "2  Early_Morning           Mumbai  Economy      2.17          1   5956  \n",
      "3      Afternoon           Mumbai  Economy      2.25          1   5955  \n",
      "4        Morning           Mumbai  Economy      2.33          1   5955  \n",
      "++++++++++++++++++++++++++++++++++++++++++++++++++++++++++++++++++++++++++++++++++++++++\n",
      "info\n",
      " <bound method DataFrame.info of         Unnamed: 0   airline   flight source_city departure_time stops  \\\n",
      "0                0  SpiceJet  SG-8709       Delhi        Evening  zero   \n",
      "1                1  SpiceJet  SG-8157       Delhi  Early_Morning  zero   \n",
      "2                2   AirAsia   I5-764       Delhi  Early_Morning  zero   \n",
      "3                3   Vistara   UK-995       Delhi        Morning  zero   \n",
      "4                4   Vistara   UK-963       Delhi        Morning  zero   \n",
      "...            ...       ...      ...         ...            ...   ...   \n",
      "300148      300148   Vistara   UK-822     Chennai        Morning   one   \n",
      "300149      300149   Vistara   UK-826     Chennai      Afternoon   one   \n",
      "300150      300150   Vistara   UK-832     Chennai  Early_Morning   one   \n",
      "300151      300151   Vistara   UK-828     Chennai  Early_Morning   one   \n",
      "300152      300152   Vistara   UK-822     Chennai        Morning   one   \n",
      "\n",
      "         arrival_time destination_city     class  duration  days_left  price  \n",
      "0               Night           Mumbai   Economy      2.17          1   5953  \n",
      "1             Morning           Mumbai   Economy      2.33          1   5953  \n",
      "2       Early_Morning           Mumbai   Economy      2.17          1   5956  \n",
      "3           Afternoon           Mumbai   Economy      2.25          1   5955  \n",
      "4             Morning           Mumbai   Economy      2.33          1   5955  \n",
      "...               ...              ...       ...       ...        ...    ...  \n",
      "300148        Evening        Hyderabad  Business     10.08         49  69265  \n",
      "300149          Night        Hyderabad  Business     10.42         49  77105  \n",
      "300150          Night        Hyderabad  Business     13.83         49  79099  \n",
      "300151        Evening        Hyderabad  Business     10.00         49  81585  \n",
      "300152        Evening        Hyderabad  Business     10.08         49  81585  \n",
      "\n",
      "[300153 rows x 12 columns]>\n",
      "++++++++++++++++++++++++++++++++++++++++++++++++++++++++++++++++++++++++++++++++++++++++\n",
      "shape\n",
      " (300153, 12)\n",
      "++++++++++++++++++++++++++++++++++++++++++++++++++++++++++++++++++++++++++++++++++++++++\n",
      "index RangeIndex(start=0, stop=300153, step=1)\n",
      "++++++++++++++++++++++++++++++++++++++++++++++++++++++++++++++++++++++++++++++++++++++++\n",
      "columns\n",
      " Index(['Unnamed: 0', 'airline', 'flight', 'source_city', 'departure_time',\n",
      "       'stops', 'arrival_time', 'destination_city', 'class', 'duration',\n",
      "       'days_left', 'price'],\n",
      "      dtype='object')\n",
      "++++++++++++++++++++++++++++++++++++++++++++++++++++++++++++++++++++++++++++++++++++++++\n",
      "0    SpiceJet\n",
      "1    SpiceJet\n",
      "2     AirAsia\n",
      "3     Vistara\n",
      "4     Vistara\n",
      "5     Vistara\n",
      "6     Vistara\n",
      "7     Vistara\n",
      "8    GO_FIRST\n",
      "9    GO_FIRST\n",
      "Name: airline, dtype: object\n",
      "++++++++++++++++++++++++++++++++++++++++++++++++++++++++++++++++++++++++++++++++++++++++\n",
      "describe()           Unnamed: 0       duration      days_left          price\n",
      "count  300153.000000  300153.000000  300153.000000  300153.000000\n",
      "mean   150076.000000      12.221021      26.004751   20889.660523\n",
      "std     86646.852011       7.191997      13.561004   22697.767366\n",
      "min         0.000000       0.830000       1.000000    1105.000000\n",
      "25%     75038.000000       6.830000      15.000000    4783.000000\n",
      "50%    150076.000000      11.250000      26.000000    7425.000000\n",
      "75%    225114.000000      16.170000      38.000000   42521.000000\n",
      "max    300152.000000      49.830000      49.000000  123071.000000\n"
     ]
    }
   ],
   "source": [
    "flightData = pd.read_csv('../AICE_Data/Clean_Dataset.csv', encoding='cp949')\n",
    "print('head()\\n', flightData.head())\n",
    "print('++++++++++++++++++++++++++++++++++++++++++++++++++++++++++++++++++++++++++++++++++++++++')\n",
    "print('info\\n', flightData.info)\n",
    "print('++++++++++++++++++++++++++++++++++++++++++++++++++++++++++++++++++++++++++++++++++++++++')\n",
    "print('shape\\n', flightData.shape)\n",
    "print('++++++++++++++++++++++++++++++++++++++++++++++++++++++++++++++++++++++++++++++++++++++++')\n",
    "print('index', flightData.index)\n",
    "print('++++++++++++++++++++++++++++++++++++++++++++++++++++++++++++++++++++++++++++++++++++++++')\n",
    "print('columns\\n', flightData.columns)\n",
    "print('++++++++++++++++++++++++++++++++++++++++++++++++++++++++++++++++++++++++++++++++++++++++')\n",
    "print(flightData['airline'][:10])\n",
    "print('++++++++++++++++++++++++++++++++++++++++++++++++++++++++++++++++++++++++++++++++++++++++')\n",
    "print('describe()', flightData.describe())\n",
    "#flightData.to_csv('./saveTest.csv')"
   ]
  },
  {
   "cell_type": "code",
   "execution_count": null,
   "id": "7ed80e37",
   "metadata": {},
   "outputs": [],
   "source": []
  }
 ],
 "metadata": {
  "kernelspec": {
   "display_name": "Python 3 (ipykernel)",
   "language": "python",
   "name": "python3"
  },
  "language_info": {
   "codemirror_mode": {
    "name": "ipython",
    "version": 3
   },
   "file_extension": ".py",
   "mimetype": "text/x-python",
   "name": "python",
   "nbconvert_exporter": "python",
   "pygments_lexer": "ipython3",
   "version": "3.9.12"
  }
 },
 "nbformat": 4,
 "nbformat_minor": 5
}
